{
 "cells": [
  {
   "cell_type": "code",
   "execution_count": null,
   "metadata": {},
   "outputs": [],
   "source": [
    "pip install dostoevsky"
   ]
  },
  {
   "cell_type": "code",
   "execution_count": 1,
   "metadata": {},
   "outputs": [],
   "source": [
    "import pandas as pd"
   ]
  },
  {
   "cell_type": "code",
   "execution_count": 2,
   "metadata": {},
   "outputs": [],
   "source": [
    "df = pd.read_csv('data2.csv', sep=';')"
   ]
  },
  {
   "cell_type": "code",
   "execution_count": 3,
   "metadata": {},
   "outputs": [
    {
     "data": {
      "text/html": [
       "<div>\n",
       "<style scoped>\n",
       "    .dataframe tbody tr th:only-of-type {\n",
       "        vertical-align: middle;\n",
       "    }\n",
       "\n",
       "    .dataframe tbody tr th {\n",
       "        vertical-align: top;\n",
       "    }\n",
       "\n",
       "    .dataframe thead th {\n",
       "        text-align: right;\n",
       "    }\n",
       "</style>\n",
       "<table border=\"1\" class=\"dataframe\">\n",
       "  <thead>\n",
       "    <tr style=\"text-align: right;\">\n",
       "      <th></th>\n",
       "      <th>Text</th>\n",
       "    </tr>\n",
       "  </thead>\n",
       "  <tbody>\n",
       "    <tr>\n",
       "      <th>0</th>\n",
       "      <td>елена, елена, стране, всё, нужно, платить, бес...</td>\n",
       "    </tr>\n",
       "    <tr>\n",
       "      <th>1</th>\n",
       "      <td>геноцид, , будьте, осторожны, , URL, , моргелл...</td>\n",
       "    </tr>\n",
       "    <tr>\n",
       "      <th>2</th>\n",
       "      <td>вакцины, крови, елена, жердева, доклад, тему, ...</td>\n",
       "    </tr>\n",
       "    <tr>\n",
       "      <th>3</th>\n",
       "      <td>хроники, борьбы, ковидом, прошедший, год, 🤓, г...</td>\n",
       "    </tr>\n",
       "    <tr>\n",
       "      <th>4</th>\n",
       "      <td>поздравляю, новым, годом, подписчиков, группы,...</td>\n",
       "    </tr>\n",
       "  </tbody>\n",
       "</table>\n",
       "</div>"
      ],
      "text/plain": [
       "                                                Text\n",
       "0  елена, елена, стране, всё, нужно, платить, бес...\n",
       "1  геноцид, , будьте, осторожны, , URL, , моргелл...\n",
       "2  вакцины, крови, елена, жердева, доклад, тему, ...\n",
       "3  хроники, борьбы, ковидом, прошедший, год, 🤓, г...\n",
       "4  поздравляю, новым, годом, подписчиков, группы,..."
      ]
     },
     "execution_count": 3,
     "metadata": {},
     "output_type": "execute_result"
    }
   ],
   "source": [
    "df.head()"
   ]
  },
  {
   "cell_type": "code",
   "execution_count": 4,
   "metadata": {},
   "outputs": [
    {
     "name": "stderr",
     "output_type": "stream",
     "text": [
      "Warning : `load_model` does not return WordVectorModel or SupervisedModel any more, but a `FastText` object which is very similar.\n"
     ]
    },
    {
     "name": "stdout",
     "output_type": "stream",
     "text": [
      "                                                text  positive  negative  \\\n",
      "0  елена, елена, стране, всё, нужно, платить, бес...       NaN  0.300756   \n",
      "1  геноцид, , будьте, осторожны, , URL, , моргелл...       NaN  0.256842   \n",
      "2  вакцины, крови, елена, жердева, доклад, тему, ...       NaN       NaN   \n",
      "3  хроники, борьбы, ковидом, прошедший, год, 🤓, г...       NaN       NaN   \n",
      "4  поздравляю, новым, годом, подписчиков, группы,...       NaN  0.275140   \n",
      "\n",
      "    neutral    speech  \n",
      "0  0.355785       NaN  \n",
      "1       NaN  0.355785  \n",
      "2  0.362979  0.250923  \n",
      "3  0.307368  0.250923  \n",
      "4       NaN  0.362979  \n"
     ]
    }
   ],
   "source": [
    "from dostoevsky.tokenization import RegexTokenizer\n",
    "from dostoevsky.models import FastTextSocialNetworkModel\n",
    "\n",
    "tokenizer = RegexTokenizer()\n",
    "model = FastTextSocialNetworkModel(tokenizer=tokenizer)\n",
    "\n",
    "import pandas as pd\n",
    "\n",
    "df['Text'] = df['Text'].astype(str)\n",
    "texts = list(df['Text'])\n",
    "results = model.predict(texts, k=2)\n",
    "\n",
    "d = {'text': texts, 'positive': [], 'negative': [], 'neutral': [], 'speech': []}\n",
    "\n",
    "for i, sentiment in enumerate(results):\n",
    "    d['positive'].append(sentiment.get('positive', None))\n",
    "    d['negative'].append(sentiment.get('negative', None))\n",
    "    d['neutral'].append(sentiment.get('neutral', None))\n",
    "    d['speech'].append(sentiment.get('speech', None))\n",
    "\n",
    "result_df = pd.DataFrame(d)\n",
    "print(result_df.head())\n",
    "\n",
    "result_df.to_csv('data_sentiment2.csv', sep=\";\")"
   ]
  }
 ],
 "metadata": {
  "kernelspec": {
   "display_name": "Python 3",
   "language": "python",
   "name": "python3"
  },
  "language_info": {
   "codemirror_mode": {
    "name": "ipython",
    "version": 3
   },
   "file_extension": ".py",
   "mimetype": "text/x-python",
   "name": "python",
   "nbconvert_exporter": "python",
   "pygments_lexer": "ipython3",
   "version": "3.8.3"
  }
 },
 "nbformat": 4,
 "nbformat_minor": 4
}
